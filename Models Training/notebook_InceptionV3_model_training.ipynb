{
 "cells": [
  {
   "cell_type": "markdown",
   "id": "133b9edb",
   "metadata": {},
   "source": [
    "# InceptionV3 model:"
   ]
  },
  {
   "cell_type": "markdown",
   "id": "401e3227",
   "metadata": {},
   "source": [
    "Description:\n",
    "    \n",
    "    InceptionV3 model with transfer learning will be used to train \n",
    "    \n",
    "    \n",
    "    "
   ]
  },
  {
   "cell_type": "markdown",
   "id": "91c8cde7",
   "metadata": {},
   "source": [
    "# Imports:"
   ]
  },
  {
   "cell_type": "code",
   "execution_count": 6,
   "id": "22035c5f",
   "metadata": {},
   "outputs": [],
   "source": [
    "import numpy as np\n",
    "import matplotlib.pyplot as plt\n",
    "%matplotlib inline\n",
    "import tensorflow as tf\n",
    "from tensorflow import keras\n",
    "from tensorflow.keras.preprocessing.image import load_img\n",
    "from tensorflow.keras.preprocessing.image import ImageDataGenerator\n",
    "from keras.applications.inception_v3 import preprocess_input\n",
    "from keras.models import load_model\n",
    "from tensorflow.keras.models import load_model\n",
    "from tensorflow.keras.preprocessing import image\n",
    "from tensorflow.keras import regularizers\n",
    "from tensorflow.keras.applications.inception_v3 import InceptionV3\n",
    "from tensorflow.keras.models import Sequential, Model\n",
    "from tensorflow.keras.layers import Dense, Dropout, Activation, Flatten\n",
    "from tensorflow.keras.layers import Convolution2D, MaxPooling2D, ZeroPadding2D, GlobalAveragePooling2D, AveragePooling2D\n",
    "from tensorflow.keras.preprocessing.image import ImageDataGenerator\n",
    "from tensorflow.keras.callbacks import ModelCheckpoint, CSVLogger\n",
    "from tensorflow.keras.optimizers import SGD\n",
    "from tensorflow.keras.regularizers import l2\n",
    "from tensorflow import keras\n",
    "from tensorflow.keras import models\n"
   ]
  },
  {
   "cell_type": "markdown",
   "id": "0ac988ba",
   "metadata": {},
   "source": [
    "# Generators:"
   ]
  },
  {
   "cell_type": "code",
   "execution_count": 7,
   "id": "ee227d96",
   "metadata": {},
   "outputs": [
    {
     "name": "stdout",
     "output_type": "stream",
     "text": [
      "Found 75750 images belonging to 101 classes.\n",
      "Found 25250 images belonging to 101 classes.\n"
     ]
    }
   ],
   "source": [
    "n_classes = 101\n",
    "batch_size = 16\n",
    "width, height = 200, 200\n",
    "train_data = './food-101/train'\n",
    "test_data = './food-101/test'\n",
    "train_samples = 75750\n",
    "test_samples = 25250\n",
    "\n",
    "train_data_gen = ImageDataGenerator(rescale=1. / 255, shear_range=0.2, zoom_range=0.2, horizontal_flip=True)\n",
    "test_data_gen = ImageDataGenerator(rescale=1. / 255)\n",
    "\n",
    "train_gen = train_data_gen.flow_from_directory(train_data, \n",
    "                                               target_size=(height, width), \n",
    "                                               batch_size=batch_size, \n",
    "                                               class_mode='categorical')\n",
    "\n",
    "test_gen = test_data_gen.flow_from_directory(test_data, \n",
    "                                             target_size=(height, width),\n",
    "                                             batch_size=batch_size, \n",
    "                                             class_mode='categorical')\n"
   ]
  },
  {
   "cell_type": "markdown",
   "id": "c280aea4",
   "metadata": {},
   "source": [
    "# Model:"
   ]
  },
  {
   "cell_type": "code",
   "execution_count": 9,
   "id": "1ef82269",
   "metadata": {},
   "outputs": [],
   "source": [
    "inception = InceptionV3(weights='imagenet', include_top=False)\n",
    "layer = inception.output\n",
    "layer = GlobalAveragePooling2D()(layer)\n",
    "layer = Dense(128,activation='relu')(layer)\n",
    "layer = Dropout(0.2)(layer)\n",
    "\n",
    "predictions = Dense(n_classes,kernel_regularizer=regularizers.l2(0.005), activation='softmax')(layer)\n",
    "\n",
    "model = Model(inputs=inception.input, outputs=predictions)\n",
    "model.compile(optimizer=SGD(learning_rate=0.0001, momentum=0.9), loss='categorical_crossentropy', metrics=['accuracy'])\n",
    "checkpointer = ModelCheckpoint(filepath='best_model_101class.hdf5', save_best_only=True)\n",
    "csv_logger = CSVLogger('history_101class.log')\n"
   ]
  },
  {
   "cell_type": "markdown",
   "id": "07afb4db",
   "metadata": {},
   "source": [
    "# Training:"
   ]
  },
  {
   "cell_type": "code",
   "execution_count": 10,
   "id": "008805d6",
   "metadata": {},
   "outputs": [
    {
     "name": "stdout",
     "output_type": "stream",
     "text": [
      "Epoch 1/10\n",
      "4734/4734 [==============================] - 9960s 2s/step - loss: 4.8907 - accuracy: 0.0678 - val_loss: 4.0436 - val_accuracy: 0.2460\n",
      "Epoch 2/10\n",
      "4734/4734 [==============================] - 15042s 3s/step - loss: 3.8429 - accuracy: 0.2545 - val_loss: 2.8395 - val_accuracy: 0.4516\n",
      "Epoch 3/10\n",
      "4734/4734 [==============================] - 15776s 3s/step - loss: 3.1339 - accuracy: 0.3765 - val_loss: 2.3216 - val_accuracy: 0.5402\n",
      "Epoch 4/10\n",
      "4734/4734 [==============================] - 16166s 3s/step - loss: 2.7305 - accuracy: 0.4513 - val_loss: 2.0250 - val_accuracy: 0.5954\n",
      "Epoch 5/10\n",
      "4734/4734 [==============================] - 14285s 3s/step - loss: 2.4555 - accuracy: 0.5054 - val_loss: 1.8302 - val_accuracy: 0.6329\n",
      "Epoch 6/10\n",
      "4734/4734 [==============================] - 11228s 2s/step - loss: 2.2657 - accuracy: 0.5411 - val_loss: 1.6955 - val_accuracy: 0.6578\n",
      "Epoch 7/10\n",
      "4734/4734 [==============================] - 11661s 2s/step - loss: 2.1076 - accuracy: 0.5714 - val_loss: 1.5990 - val_accuracy: 0.6758\n",
      "Epoch 8/10\n",
      "4734/4734 [==============================] - 11915s 3s/step - loss: 1.9642 - accuracy: 0.5993 - val_loss: 1.5116 - val_accuracy: 0.6950\n",
      "Epoch 9/10\n",
      "4734/4734 [==============================] - 11343s 2s/step - loss: 1.8580 - accuracy: 0.6198 - val_loss: 1.4211 - val_accuracy: 0.7108\n",
      "Epoch 10/10\n",
      "4734/4734 [==============================] - 11275s 2s/step - loss: 1.7588 - accuracy: 0.6387 - val_loss: 1.4005 - val_accuracy: 0.7135\n"
     ]
    }
   ],
   "source": [
    "history_101class = model.fit(train_gen, \n",
    "                             steps_per_epoch= train_samples // batch_size, \n",
    "                             validation_data= test_gen, \n",
    "                             validation_steps= test_samples // batch_size, \n",
    "                             epochs=10, callbacks=[csv_logger, checkpointer])\n",
    "\n",
    "model.save('model_trained_101class.hdf5')"
   ]
  },
  {
   "cell_type": "code",
   "execution_count": 17,
   "id": "2dc39b26",
   "metadata": {},
   "outputs": [
    {
     "data": {
      "image/png": "[encoded data removed]",
      "text/plain": [
       "<Figure size 432x288 with 1 Axes>"
      ]
     },
     "metadata": {
      "needs_background": "light"
     },
     "output_type": "display_data"
    }
   ],
   "source": [
    "_ = plt.style.library['seaborn-darkgrid']\n",
    "_ = plt.title('FOOD_CLASSIFICATION-Inceptionv3')\n",
    "_ = plt.plot(history_101class.history['accuracy'], marker='o', linestyle='dashed')\n",
    "_ = plt.plot(history_101class.history['val_accuracy'], marker='x', linestyle='dashed')\n",
    "_ = plt.ylabel('Accuracy')\n",
    "_ = plt.xlabel('Epoch')\n",
    "_ = plt.legend(['train_accuracy', 'validation_accuracy'], loc='best')\n",
    "plt.xticks(np.arange(10))\n",
    "plt.show()"
   ]
  },
  {
   "cell_type": "code",
   "execution_count": 16,
   "id": "d2370683",
   "metadata": {},
   "outputs": [
    {
     "data": {
      "image/png": "[encoded data removed]",
      "text/plain": [
       "<Figure size 432x288 with 1 Axes>"
      ]
     },
     "metadata": {
      "needs_background": "light"
     },
     "output_type": "display_data"
    }
   ],
   "source": [
    "# Plot training-loss & validation-loss.\n",
    "_ = plt.style.library['seaborn-darkgrid']\n",
    "_ = plt.title('FOOD_CLASSIFICATION-Inceptionv3')\n",
    "_ = plt.plot(history_101class.history['loss'], marker='o', linestyle='dashed')\n",
    "_ = plt.plot(history_101class.history['val_loss'], marker='x', linestyle='dashed')\n",
    "_ = plt.ylabel('Loss')\n",
    "_ = plt.xlabel('Epoch')\n",
    "_ = plt.legend(['train_loss', 'validation_loss'], loc='best')\n",
    "plt.xticks(np.arange(10))\n",
    "plt.show()"
   ]
  },
  {
   "cell_type": "code",
   "execution_count": null,
   "id": "f4a7ba0d",
   "metadata": {},
   "outputs": [],
   "source": []
  }
 ],
 "metadata": {
  "kernelspec": {
   "display_name": "Python 3 (ipykernel)",
   "language": "python",
   "name": "python3"
  },
  "language_info": {
   "codemirror_mode": {
    "name": "ipython",
    "version": 3
   },
   "file_extension": ".py",
   "mimetype": "text/x-python",
   "name": "python",
   "nbconvert_exporter": "python",
   "pygments_lexer": "ipython3",
   "version": "3.8.11"
  }
 },
 "nbformat": 4,
 "nbformat_minor": 5
}
